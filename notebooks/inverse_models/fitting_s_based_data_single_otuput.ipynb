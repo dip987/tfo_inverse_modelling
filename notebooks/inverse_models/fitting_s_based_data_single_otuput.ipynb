{
 "cells": [
  {
   "attachments": {},
   "cell_type": "markdown",
   "metadata": {},
   "source": [
    "# Fitting Saturation-based Simulation Data With Multi-Output\n",
    "Can having multiple labels per data improve validation loss? \n"
   ]
  },
  {
   "cell_type": "code",
   "execution_count": 1,
   "metadata": {},
   "outputs": [],
   "source": [
    "from pathlib import Path\n",
    "import json\n",
    "from torch.optim import Adam, SGD\n",
    "import torch.nn as nn\n",
    "import torch\n",
    "import matplotlib.pyplot as plt\n",
    "import numpy as np\n",
    "import pandas as pd\n",
    "import os\n",
    "from sklearn import preprocessing\n",
    "from model_trainer import RandomSplit, ValidationMethod, HoldOneOut, CVSplit, CombineMethods\n",
    "from inverse_modelling_tfo.model_training.custom_models import (\n",
    "    PerceptronBD,\n",
    "    CNN2FC,\n",
    "    FeatureResidualNetwork,\n",
    "    CNN2FC2dInput,\n",
    "    SplitChannelCNN\n",
    ")\n",
    "\n",
    "from inverse_modelling_tfo.visualization import generate_model_error_and_prediction\n",
    "import torchinfo\n",
    "from inverse_modelling_tfo.misc.misc_training import set_seed\n",
    "\n",
    "# Set my GPU\n",
    "os.environ[\"CUDA_VISIBLE_DEVICES\"] = \"3\""
   ]
  },
  {
   "cell_type": "code",
   "execution_count": 2,
   "metadata": {},
   "outputs": [],
   "source": [
    "%load_ext autoreload\n",
    "%autoreload 2"
   ]
  },
  {
   "cell_type": "markdown",
   "metadata": {},
   "source": [
    "# Load Pre-save data"
   ]
  },
  {
   "cell_type": "code",
   "execution_count": 3,
   "metadata": {},
   "outputs": [],
   "source": [
    "# file_name = 'logI2_by_I1'\n",
    "# file_name = 'I1_and_I2'\n",
    "# file_name = 'pulsation_ratio'\n",
    "file_name = \"pulsation_ratio_interp_sd\"\n",
    "# Load data\n",
    "DATA_PATH = Path().resolve().parent.parent / \"data\" / \"processed_data\" / f\"{file_name}.pkl\"\n",
    "data = pd.read_pickle(DATA_PATH)\n",
    "\n",
    "# Load Configs\n",
    "CONFIG_PATH = DATA_PATH.with_suffix(\".json\")\n",
    "with open(CONFIG_PATH, \"r\") as f:\n",
    "    config = json.load(f)\n",
    "labels = config[\"labels\"]\n",
    "features = config[\"features\"]\n",
    "\n",
    "# Convert to log\n",
    "# data[features] = np.log(data[features])"
   ]
  },
  {
   "cell_type": "code",
   "execution_count": 4,
   "metadata": {},
   "outputs": [],
   "source": [
    "# # I1 by I2 path\n",
    "\n",
    "# from inverse_modelling_tfo.features.build_features import TwoColumnOperationFeatureBuilder\n",
    "\n",
    "# i1_wv2 = features[:len(features)//4]\n",
    "# i1_wv1 = features[len(features)//4:2*len(features)//4]\n",
    "# i2_wv2 = features[2*len(features)//4:3*len(features)//4]\n",
    "# i2_wv1 = features[3*len(features)//4:]\n",
    "\n",
    "\n",
    "# # Create the feature builders\n",
    "# fb1 = TwoColumnOperationFeatureBuilder(i2_wv1, i1_wv1, '/', False, features, labels)\n",
    "# fb2 = TwoColumnOperationFeatureBuilder.from_chain(fb1, i2_wv2, i1_wv2, '/', False)\n",
    "\n",
    "# # Transform the data\n",
    "# data = fb2(data)\n",
    "\n",
    "# features = fb2.get_feature_names()\n",
    "\n",
    "# # Cleanup\n",
    "# data.dropna(inplace=True)"
   ]
  },
  {
   "cell_type": "code",
   "execution_count": 5,
   "metadata": {},
   "outputs": [
    {
     "data": {
      "text/html": [
       "<div>\n",
       "<style scoped>\n",
       "    .dataframe tbody tr th:only-of-type {\n",
       "        vertical-align: middle;\n",
       "    }\n",
       "\n",
       "    .dataframe tbody tr th {\n",
       "        vertical-align: top;\n",
       "    }\n",
       "\n",
       "    .dataframe thead th {\n",
       "        text-align: right;\n",
       "    }\n",
       "</style>\n",
       "<table border=\"1\" class=\"dataframe\">\n",
       "  <thead>\n",
       "    <tr style=\"text-align: right;\">\n",
       "      <th></th>\n",
       "      <th>Maternal Wall Thickness</th>\n",
       "      <th>Maternal Hb Concentration</th>\n",
       "      <th>Maternal Saturation</th>\n",
       "      <th>Fetal Saturation</th>\n",
       "      <th>FconcCenters</th>\n",
       "      <th>Fetal Hb Concentration 1</th>\n",
       "      <th>Fetal Hb Concentration 2</th>\n",
       "      <th>10_2.0_1_/_10_2.0_2</th>\n",
       "      <th>15_2.0_1_/_15_2.0_2</th>\n",
       "      <th>19_2.0_1_/_19_2.0_2</th>\n",
       "      <th>...</th>\n",
       "      <th>55_1.0_1_/_55_1.0_2</th>\n",
       "      <th>59_1.0_1_/_59_1.0_2</th>\n",
       "      <th>64_1.0_1_/_64_1.0_2</th>\n",
       "      <th>68_1.0_1_/_68_1.0_2</th>\n",
       "      <th>72_1.0_1_/_72_1.0_2</th>\n",
       "      <th>77_1.0_1_/_77_1.0_2</th>\n",
       "      <th>81_1.0_1_/_81_1.0_2</th>\n",
       "      <th>86_1.0_1_/_86_1.0_2</th>\n",
       "      <th>90_1.0_1_/_90_1.0_2</th>\n",
       "      <th>94_1.0_1_/_94_1.0_2</th>\n",
       "    </tr>\n",
       "  </thead>\n",
       "  <tbody>\n",
       "    <tr>\n",
       "      <th>count</th>\n",
       "      <td>515592.000000</td>\n",
       "      <td>515592.000000</td>\n",
       "      <td>515592.000000</td>\n",
       "      <td>515592.000000</td>\n",
       "      <td>515592.000000</td>\n",
       "      <td>515592.000000</td>\n",
       "      <td>515592.000000</td>\n",
       "      <td>515592.000000</td>\n",
       "      <td>515592.000000</td>\n",
       "      <td>515592.000000</td>\n",
       "      <td>...</td>\n",
       "      <td>515592.000000</td>\n",
       "      <td>515592.000000</td>\n",
       "      <td>515592.000000</td>\n",
       "      <td>515592.000000</td>\n",
       "      <td>515592.000000</td>\n",
       "      <td>515592.000000</td>\n",
       "      <td>515592.000000</td>\n",
       "      <td>515592.000000</td>\n",
       "      <td>515592.000000</td>\n",
       "      <td>515592.000000</td>\n",
       "    </tr>\n",
       "    <tr>\n",
       "      <th>mean</th>\n",
       "      <td>19.000000</td>\n",
       "      <td>13.000000</td>\n",
       "      <td>0.950000</td>\n",
       "      <td>0.400000</td>\n",
       "      <td>4.000000</td>\n",
       "      <td>12.675000</td>\n",
       "      <td>13.000000</td>\n",
       "      <td>1.000020</td>\n",
       "      <td>1.000081</td>\n",
       "      <td>1.000231</td>\n",
       "      <td>...</td>\n",
       "      <td>1.007367</td>\n",
       "      <td>1.008280</td>\n",
       "      <td>1.009194</td>\n",
       "      <td>1.010214</td>\n",
       "      <td>1.011125</td>\n",
       "      <td>1.012426</td>\n",
       "      <td>1.013582</td>\n",
       "      <td>1.014443</td>\n",
       "      <td>1.015206</td>\n",
       "      <td>1.015695</td>\n",
       "    </tr>\n",
       "    <tr>\n",
       "      <th>std</th>\n",
       "      <td>8.944281</td>\n",
       "      <td>1.290996</td>\n",
       "      <td>0.031623</td>\n",
       "      <td>0.121106</td>\n",
       "      <td>2.738615</td>\n",
       "      <td>1.335075</td>\n",
       "      <td>1.369308</td>\n",
       "      <td>0.000077</td>\n",
       "      <td>0.000294</td>\n",
       "      <td>0.000770</td>\n",
       "      <td>...</td>\n",
       "      <td>0.007485</td>\n",
       "      <td>0.007600</td>\n",
       "      <td>0.007551</td>\n",
       "      <td>0.007320</td>\n",
       "      <td>0.007153</td>\n",
       "      <td>0.006677</td>\n",
       "      <td>0.006144</td>\n",
       "      <td>0.006356</td>\n",
       "      <td>0.009207</td>\n",
       "      <td>0.012705</td>\n",
       "    </tr>\n",
       "    <tr>\n",
       "      <th>min</th>\n",
       "      <td>4.000000</td>\n",
       "      <td>11.000000</td>\n",
       "      <td>0.900000</td>\n",
       "      <td>0.200000</td>\n",
       "      <td>0.000000</td>\n",
       "      <td>10.725000</td>\n",
       "      <td>11.000000</td>\n",
       "      <td>0.999985</td>\n",
       "      <td>0.999985</td>\n",
       "      <td>0.999985</td>\n",
       "      <td>...</td>\n",
       "      <td>0.999984</td>\n",
       "      <td>0.999984</td>\n",
       "      <td>0.999984</td>\n",
       "      <td>0.999984</td>\n",
       "      <td>0.999984</td>\n",
       "      <td>0.999984</td>\n",
       "      <td>1.000092</td>\n",
       "      <td>1.000285</td>\n",
       "      <td>1.000475</td>\n",
       "      <td>0.999840</td>\n",
       "    </tr>\n",
       "    <tr>\n",
       "      <th>25%</th>\n",
       "      <td>11.000000</td>\n",
       "      <td>12.000000</td>\n",
       "      <td>0.920000</td>\n",
       "      <td>0.300000</td>\n",
       "      <td>1.750000</td>\n",
       "      <td>11.578125</td>\n",
       "      <td>11.875000</td>\n",
       "      <td>0.999999</td>\n",
       "      <td>0.999999</td>\n",
       "      <td>0.999999</td>\n",
       "      <td>...</td>\n",
       "      <td>1.000005</td>\n",
       "      <td>1.000034</td>\n",
       "      <td>1.000374</td>\n",
       "      <td>1.001113</td>\n",
       "      <td>1.001960</td>\n",
       "      <td>1.006523</td>\n",
       "      <td>1.012322</td>\n",
       "      <td>1.013092</td>\n",
       "      <td>1.011509</td>\n",
       "      <td>1.009413</td>\n",
       "    </tr>\n",
       "    <tr>\n",
       "      <th>50%</th>\n",
       "      <td>19.000000</td>\n",
       "      <td>13.000000</td>\n",
       "      <td>0.950000</td>\n",
       "      <td>0.400000</td>\n",
       "      <td>4.000000</td>\n",
       "      <td>12.675000</td>\n",
       "      <td>13.000000</td>\n",
       "      <td>1.000000</td>\n",
       "      <td>1.000000</td>\n",
       "      <td>1.000001</td>\n",
       "      <td>...</td>\n",
       "      <td>1.004128</td>\n",
       "      <td>1.006971</td>\n",
       "      <td>1.010185</td>\n",
       "      <td>1.013880</td>\n",
       "      <td>1.015092</td>\n",
       "      <td>1.015852</td>\n",
       "      <td>1.016019</td>\n",
       "      <td>1.015947</td>\n",
       "      <td>1.015471</td>\n",
       "      <td>1.015397</td>\n",
       "    </tr>\n",
       "    <tr>\n",
       "      <th>75%</th>\n",
       "      <td>27.000000</td>\n",
       "      <td>14.000000</td>\n",
       "      <td>0.980000</td>\n",
       "      <td>0.500000</td>\n",
       "      <td>6.250000</td>\n",
       "      <td>13.771875</td>\n",
       "      <td>14.125000</td>\n",
       "      <td>1.000002</td>\n",
       "      <td>1.000002</td>\n",
       "      <td>1.000003</td>\n",
       "      <td>...</td>\n",
       "      <td>1.016051</td>\n",
       "      <td>1.016763</td>\n",
       "      <td>1.016866</td>\n",
       "      <td>1.016842</td>\n",
       "      <td>1.016961</td>\n",
       "      <td>1.017044</td>\n",
       "      <td>1.017231</td>\n",
       "      <td>1.017312</td>\n",
       "      <td>1.017135</td>\n",
       "      <td>1.017496</td>\n",
       "    </tr>\n",
       "    <tr>\n",
       "      <th>max</th>\n",
       "      <td>34.000000</td>\n",
       "      <td>15.000000</td>\n",
       "      <td>1.000000</td>\n",
       "      <td>0.600000</td>\n",
       "      <td>8.000000</td>\n",
       "      <td>14.625000</td>\n",
       "      <td>15.000000</td>\n",
       "      <td>1.000465</td>\n",
       "      <td>1.001774</td>\n",
       "      <td>1.004452</td>\n",
       "      <td>...</td>\n",
       "      <td>1.018514</td>\n",
       "      <td>1.019477</td>\n",
       "      <td>1.021315</td>\n",
       "      <td>1.021073</td>\n",
       "      <td>1.027280</td>\n",
       "      <td>1.028043</td>\n",
       "      <td>1.027976</td>\n",
       "      <td>1.036692</td>\n",
       "      <td>1.065617</td>\n",
       "      <td>1.092411</td>\n",
       "    </tr>\n",
       "  </tbody>\n",
       "</table>\n",
       "<p>8 rows × 47 columns</p>\n",
       "</div>"
      ],
      "text/plain": [
       "       Maternal Wall Thickness  Maternal Hb Concentration  \\\n",
       "count            515592.000000              515592.000000   \n",
       "mean                 19.000000                  13.000000   \n",
       "std                   8.944281                   1.290996   \n",
       "min                   4.000000                  11.000000   \n",
       "25%                  11.000000                  12.000000   \n",
       "50%                  19.000000                  13.000000   \n",
       "75%                  27.000000                  14.000000   \n",
       "max                  34.000000                  15.000000   \n",
       "\n",
       "       Maternal Saturation  Fetal Saturation   FconcCenters  \\\n",
       "count        515592.000000     515592.000000  515592.000000   \n",
       "mean              0.950000          0.400000       4.000000   \n",
       "std               0.031623          0.121106       2.738615   \n",
       "min               0.900000          0.200000       0.000000   \n",
       "25%               0.920000          0.300000       1.750000   \n",
       "50%               0.950000          0.400000       4.000000   \n",
       "75%               0.980000          0.500000       6.250000   \n",
       "max               1.000000          0.600000       8.000000   \n",
       "\n",
       "       Fetal Hb Concentration 1  Fetal Hb Concentration 2  \\\n",
       "count             515592.000000             515592.000000   \n",
       "mean                  12.675000                 13.000000   \n",
       "std                    1.335075                  1.369308   \n",
       "min                   10.725000                 11.000000   \n",
       "25%                   11.578125                 11.875000   \n",
       "50%                   12.675000                 13.000000   \n",
       "75%                   13.771875                 14.125000   \n",
       "max                   14.625000                 15.000000   \n",
       "\n",
       "       10_2.0_1_/_10_2.0_2  15_2.0_1_/_15_2.0_2  19_2.0_1_/_19_2.0_2  ...  \\\n",
       "count        515592.000000        515592.000000        515592.000000  ...   \n",
       "mean              1.000020             1.000081             1.000231  ...   \n",
       "std               0.000077             0.000294             0.000770  ...   \n",
       "min               0.999985             0.999985             0.999985  ...   \n",
       "25%               0.999999             0.999999             0.999999  ...   \n",
       "50%               1.000000             1.000000             1.000001  ...   \n",
       "75%               1.000002             1.000002             1.000003  ...   \n",
       "max               1.000465             1.001774             1.004452  ...   \n",
       "\n",
       "       55_1.0_1_/_55_1.0_2  59_1.0_1_/_59_1.0_2  64_1.0_1_/_64_1.0_2  \\\n",
       "count        515592.000000        515592.000000        515592.000000   \n",
       "mean              1.007367             1.008280             1.009194   \n",
       "std               0.007485             0.007600             0.007551   \n",
       "min               0.999984             0.999984             0.999984   \n",
       "25%               1.000005             1.000034             1.000374   \n",
       "50%               1.004128             1.006971             1.010185   \n",
       "75%               1.016051             1.016763             1.016866   \n",
       "max               1.018514             1.019477             1.021315   \n",
       "\n",
       "       68_1.0_1_/_68_1.0_2  72_1.0_1_/_72_1.0_2  77_1.0_1_/_77_1.0_2  \\\n",
       "count        515592.000000        515592.000000        515592.000000   \n",
       "mean              1.010214             1.011125             1.012426   \n",
       "std               0.007320             0.007153             0.006677   \n",
       "min               0.999984             0.999984             0.999984   \n",
       "25%               1.001113             1.001960             1.006523   \n",
       "50%               1.013880             1.015092             1.015852   \n",
       "75%               1.016842             1.016961             1.017044   \n",
       "max               1.021073             1.027280             1.028043   \n",
       "\n",
       "       81_1.0_1_/_81_1.0_2  86_1.0_1_/_86_1.0_2  90_1.0_1_/_90_1.0_2  \\\n",
       "count        515592.000000        515592.000000        515592.000000   \n",
       "mean              1.013582             1.014443             1.015206   \n",
       "std               0.006144             0.006356             0.009207   \n",
       "min               1.000092             1.000285             1.000475   \n",
       "25%               1.012322             1.013092             1.011509   \n",
       "50%               1.016019             1.015947             1.015471   \n",
       "75%               1.017231             1.017312             1.017135   \n",
       "max               1.027976             1.036692             1.065617   \n",
       "\n",
       "       94_1.0_1_/_94_1.0_2  \n",
       "count        515592.000000  \n",
       "mean              1.015695  \n",
       "std               0.012705  \n",
       "min               0.999840  \n",
       "25%               1.009413  \n",
       "50%               1.015397  \n",
       "75%               1.017496  \n",
       "max               1.092411  \n",
       "\n",
       "[8 rows x 47 columns]"
      ]
     },
     "execution_count": 5,
     "metadata": {},
     "output_type": "execute_result"
    }
   ],
   "source": [
    "data.describe()"
   ]
  },
  {
   "cell_type": "code",
   "execution_count": 6,
   "metadata": {},
   "outputs": [],
   "source": [
    "# Filter data so I don't have to wait for too long during training\n",
    "data = data[data[\"Maternal Wall Thickness\"] <= 14.0]\n",
    "# print(\"training with\", len(data), \"samples\")"
   ]
  },
  {
   "cell_type": "markdown",
   "metadata": {},
   "source": [
    "# Setup Training Objective"
   ]
  },
  {
   "cell_type": "code",
   "execution_count": 7,
   "metadata": {},
   "outputs": [
    {
     "name": "stdout",
     "output_type": "stream",
     "text": [
      "Y Columns ['Fetal Saturation']\n",
      "X Columns ['Maternal Wall Thickness', '10_2.0_1_/_10_2.0_2', '15_2.0_1_/_15_2.0_2', '19_2.0_1_/_19_2.0_2', '24_2.0_1_/_24_2.0_2', '28_2.0_1_/_28_2.0_2', '33_2.0_1_/_33_2.0_2', '37_2.0_1_/_37_2.0_2', '41_2.0_1_/_41_2.0_2', '46_2.0_1_/_46_2.0_2', '50_2.0_1_/_50_2.0_2', '55_2.0_1_/_55_2.0_2', '59_2.0_1_/_59_2.0_2', '64_2.0_1_/_64_2.0_2', '68_2.0_1_/_68_2.0_2', '72_2.0_1_/_72_2.0_2', '77_2.0_1_/_77_2.0_2', '81_2.0_1_/_81_2.0_2', '86_2.0_1_/_86_2.0_2', '90_2.0_1_/_90_2.0_2', '94_2.0_1_/_94_2.0_2', '10_1.0_1_/_10_1.0_2', '15_1.0_1_/_15_1.0_2', '19_1.0_1_/_19_1.0_2', '24_1.0_1_/_24_1.0_2', '28_1.0_1_/_28_1.0_2', '33_1.0_1_/_33_1.0_2', '37_1.0_1_/_37_1.0_2', '41_1.0_1_/_41_1.0_2', '46_1.0_1_/_46_1.0_2', '50_1.0_1_/_50_1.0_2', '55_1.0_1_/_55_1.0_2', '59_1.0_1_/_59_1.0_2', '64_1.0_1_/_64_1.0_2', '68_1.0_1_/_68_1.0_2', '72_1.0_1_/_72_1.0_2', '77_1.0_1_/_77_1.0_2', '81_1.0_1_/_81_1.0_2', '86_1.0_1_/_86_1.0_2', '90_1.0_1_/_90_1.0_2', '94_1.0_1_/_94_1.0_2']\n"
     ]
    }
   ],
   "source": [
    "## Regression\n",
    "y_columns = ['Fetal Saturation']  # What to Predict\n",
    "\n",
    "## Classification\n",
    "## Convert the Fetal Saturation values to One-Hot Encoding\n",
    "# data[\"Fetal Saturation\"] = data[\"Fetal Saturation\"].round(2)\n",
    "# data = pd.get_dummies(data, columns=[\"Fetal Saturation\"], prefix=\"FS\")\n",
    "# y_columns = [col for col in data.columns if col.startswith(\"FS_\")]\n",
    "\n",
    "\n",
    "# Add New ConcDiff Column as a new label\n",
    "# data[\"ConcDiff\"] = data[\"Fetal Hb Concentration 1\"] - data[\"Fetal Hb Concentration 0\"]\n",
    "# if \"ConcDiff\" not in y_columns:\n",
    "#     y_columns.append(\"ConcDiff\")\n",
    "\n",
    "# if \"Fetal Hb Concentration 1\" in y_columns:\n",
    "#     y_columns.remove(\"Fetal Hb Concentration 1\")\n",
    "\n",
    "# if \"Fetal Hb Concentration 0\" in y_columns:\n",
    "#     y_columns.remove(\"Fetal Hb Concentration 0\")\n",
    "\n",
    "if \"FconcCenters\" in y_columns:\n",
    "    y_columns.remove(\"FconcCenters\")\n",
    "print(\"Y Columns\", y_columns)\n",
    "\n",
    "# x_columns = features  # What to use as input\n",
    "# x_columns = features  # What to use as input\n",
    "x_columns = ['Maternal Wall Thickness'] + features  # First Input gets skip connected + What to use as the actual input\n",
    "# x_columns = [features[i] for i in [3, 8, 12, 15, 19, 23, 28, 35, 39]] # Certain specific detectors\n",
    "\n",
    "## Use only first N detectors\n",
    "# N = 10\n",
    "# x_columns = features[:N] + features[(len(features)//2): (len(features)//2 + N)]\n",
    "\n",
    "print(\"X Columns\", x_columns)"
   ]
  },
  {
   "attachments": {},
   "cell_type": "markdown",
   "metadata": {},
   "source": [
    "## Normalizing Features\n",
    "x_columns will be the input features and y_columns are the target"
   ]
  },
  {
   "cell_type": "code",
   "execution_count": 8,
   "metadata": {},
   "outputs": [],
   "source": [
    "## Pass in maternal info\n",
    "# x_columns += [\"Maternal Hb Concentration\", \"Maternal Saturation\"]\n",
    "# x_columns = list(filter(lambda X: 'alpha' in X, data.columns))\n",
    "## Scale y\n",
    "y_scaler = preprocessing.StandardScaler()\n",
    "data[y_columns] = y_scaler.fit_transform(data[y_columns])\n",
    "\n",
    "## Scale x\n",
    "## Scheme 1 - Per detector normalization\n",
    "x_scaler = preprocessing.StandardScaler()\n",
    "data[x_columns] = x_scaler.fit_transform(data[x_columns])\n",
    "\n",
    "## Scheme 2 - All detector combined normalization\n",
    "# x_scaler = preprocessing.StandardScaler()\n",
    "# # Assume the entire data lies between -1 to -20 (log scale) -> z = (x - u) / s -> zs - x = -u; s = 19/2 = 9.5;\n",
    "# # at z = +1, x = -1, at z = -1, x = -20, u = 10.5, so we should be converting from -1 to -20 to -1 to 1\n",
    "# # Use these values to manually define the scaler\n",
    "# feature_len  = len(x_columns)\n",
    "# x_scaler.scale_ = np.array([9.5] * feature_len)\n",
    "# x_scaler.mean_ = np.array([10.5] * feature_len)\n",
    "# x_scaler.n_features_in_ = feature_len\n",
    "# x_scaler.feature_names_in_ = x_columns  # Avoids a warning/not really necessary\n",
    "# data[x_columns] = x_scaler.transform(data[x_columns])\n"
   ]
  },
  {
   "attachments": {},
   "cell_type": "markdown",
   "metadata": {},
   "source": [
    "## Model Configuration"
   ]
  },
  {
   "cell_type": "code",
   "execution_count": 9,
   "metadata": {},
   "outputs": [
    {
     "name": "stdout",
     "output_type": "stream",
     "text": [
      "In Features : 41\n",
      "Out Features: 1\n"
     ]
    }
   ],
   "source": [
    "print(\"In Features :\", len(x_columns))  \n",
    "print(\"Out Features:\", len(y_columns))"
   ]
  },
  {
   "cell_type": "markdown",
   "metadata": {},
   "source": [
    "# Training Configs"
   ]
  },
  {
   "cell_type": "code",
   "execution_count": 10,
   "metadata": {},
   "outputs": [],
   "source": [
    "IN_FEATURES = len(x_columns)\n",
    "OUT_FEATURES = len(y_columns)\n",
    "\n",
    "from model_trainer import ModelTrainer, TorchLossWrapper, DataLoaderGenerator, SumLoss\n",
    "from model_trainer.ModelTrainer import ModelTrainerNoisy\n",
    "from model_trainer.early_stopping import EarlyStopper\n",
    "from inverse_modelling_tfo.model_training.custom_models import SkipConnect\n",
    "\n",
    "## Single Losses\n",
    "criterion = TorchLossWrapper(nn.MSELoss(), name=\"fetal_sat\")    # MSE\n",
    "# criterion = TorchLossWrapper(nn.CrossEntropyLoss(), name='fetal_sat')   # Cross Entropy - only works with 0-1 ranges\n",
    "\n",
    "\n",
    "set_seed(40)\n",
    "\n",
    "## Validation Methods\n",
    "# validation_method = RandomSplit(0.8)\n",
    "\n",
    "all_depths = data[\"Maternal Wall Thickness\"].unique()\n",
    "all_depths.sort()\n",
    "validation_method = HoldOneOut(\"Maternal Wall Thickness\", all_depths[len(all_depths) // 2])  # Center value\n",
    "\n",
    "dataloader_gen = DataLoaderGenerator(data, x_columns, y_columns, 32, {\"shuffle\": True})\n",
    "\n",
    "## Trainer Factory - Perceptrons\n",
    "# model = PerceptronBD([IN_FEATURES, 40, 20, 10, 6, OUT_FEATURES])    # Works\n",
    "# model = PerceptronBD([IN_FEATURES, 40, 20, 10, OUT_FEATURES])     # \n",
    "# model = PerceptronBD([IN_FEATURES, 80, 40, 10, OUT_FEATURES])    \n",
    "# model = PerceptronBD([IN_FEATURES, 64, 32, 16, 8, 4, 2, OUT_FEATURES])    # Current Best\n",
    "# model = PerceptronBD([IN_FEATURES, 20, 15, 10, 5, 3, OUT_FEATURES])\n",
    "# model = PerceptronBD([IN_FEATURES, 20, 10, OUT_FEATURES])\n",
    "\n",
    "## Trainer Factory - Skip Connection\n",
    "# Explanation: The 0th index is skip connected, other IN_FEATURES - 1 are used as input\n",
    "model = SkipConnect([IN_FEATURES - 1, 40, 20, OUT_FEATURES], [0], 1)\n",
    "\n",
    "\n",
    "## Trainer Factory - CNNs\n",
    "# cnn_config = {\n",
    "#     'input_length': IN_FEATURES,\n",
    "#     'cnn_out_channels': [4, 8, 16],\n",
    "#     'cnn_kernel_sizes' : [10, 10, 10],\n",
    "#     'fc_output_node_counts': [20, 10, OUT_FEATURES],\n",
    "# }\n",
    "# trainer_factory = ModelTrainerFactory(CNN2FC2dInput, cnn_config, generate_data_loaders, datagen_kw, 100, criterion)\n",
    "\n",
    "## Trainer Factory - SplitChannel CNNs\n",
    "# cnn_config = {\n",
    "#     'complete_input_length': IN_FEATURES,\n",
    "#     'split_count': 2,\n",
    "#     'cnn_out_channels': [4, 8, 16],\n",
    "#     # 'cnn_kernel_sizes' : [10, 5, 5],\n",
    "#     'cnn_kernel_sizes' : [10, 5, 3],\n",
    "#     # 'cnn_dropouts' : [0.1] * 2,\n",
    "#     'fc_output_node_counts': [12, 6, OUT_FEATURES],    # Best\n",
    "#     # 'fc_dropouts': [0.1] * 3,\n",
    "# }\n",
    "\n",
    "# model = SplitChannelCNN(**cnn_config)\n",
    "\n",
    "\n",
    "# trainer = ModelTrainer(model, dataloader_gen, validation_method, criterion)\n",
    "trainer = ModelTrainerNoisy(\n",
    "    model,\n",
    "    dataloader_gen,\n",
    "    validation_method,\n",
    "    criterion,\n",
    "    list(range(len(x_columns))),\n",
    "    [0.1] + [0.0] * (len(x_columns) - 1),\n",
    "    [0] * len(x_columns),\n",
    ")"
   ]
  },
  {
   "cell_type": "markdown",
   "metadata": {},
   "source": [
    "## Custom Training"
   ]
  },
  {
   "cell_type": "code",
   "execution_count": 11,
   "metadata": {},
   "outputs": [],
   "source": [
    "# trainer.set_optimizer(SGD, {'lr': 4e-4, 'momentum': 0.98, 'weight_decay': 1e-4})\n",
    "# trainer.set_optimizer(SGD, {'lr': 2e-3, 'momentum': 0.98, 'weight_decay': 1e-4})      # Current Best\n",
    "# trainer.set_optimizer(SGD, {'lr': 3e-4, 'momentum': 0.98, 'nesterov': True})\n",
    "# trainer.set_optimizer(SGD, {'lr': 8e-4, 'momentum': 0.89, 'nesterov': True})\n",
    "trainer.set_optimizer(Adam, {'lr': 1e-3, 'weight_decay': 1e-4})\n",
    "trainer.set_batch_size(128)\n",
    "# trainer.set_batch_size(32)\n",
    "trainer.run(100) "
   ]
  },
  {
   "cell_type": "code",
   "execution_count": 12,
   "metadata": {},
   "outputs": [
    {
     "data": {
      "image/png": "[encoded data removed]",
      "text/plain": [
       "<Figure size 600x500 with 1 Axes>"
      ]
     },
     "metadata": {},
     "output_type": "display_data"
    }
   ],
   "source": [
    "loss_curves = criterion.plot_losses()\n",
    "plt.show()"
   ]
  },
  {
   "cell_type": "code",
   "execution_count": 13,
   "metadata": {},
   "outputs": [
    {
     "data": {
      "text/html": [
       "<pre style=\"white-space:pre;overflow-x:auto;line-height:normal;font-family:Menlo,'DejaVu Sans Mono',consolas,'Courier New',monospace\"><span style=\"font-style: italic\">                   Losses                   </span>\n",
       "┏━━━━━━━━━━━┳━━━━━━━━━━━━┳━━━━━━━━━━━━━━━━━┓\n",
       "┃<span style=\"font-weight: bold\">    👀     </span>┃<span style=\"font-weight: bold\"> Train Loss </span>┃<span style=\"font-weight: bold\"> Validation Loss </span>┃\n",
       "┡━━━━━━━━━━━╇━━━━━━━━━━━━╇━━━━━━━━━━━━━━━━━┩\n",
       "│<span style=\"color: #008080; text-decoration-color: #008080\"> fetal_sat </span>│<span style=\"color: #800080; text-decoration-color: #800080\">   0.0496   </span>│<span style=\"color: #008000; text-decoration-color: #008000\">     2.5237      </span>│\n",
       "└───────────┴────────────┴─────────────────┘\n",
       "</pre>\n"
      ],
      "text/plain": [
       "\u001b[3m                   Losses                   \u001b[0m\n",
       "┏━━━━━━━━━━━┳━━━━━━━━━━━━┳━━━━━━━━━━━━━━━━━┓\n",
       "┃\u001b[1m \u001b[0m\u001b[1m   👀    \u001b[0m\u001b[1m \u001b[0m┃\u001b[1m \u001b[0m\u001b[1mTrain Loss\u001b[0m\u001b[1m \u001b[0m┃\u001b[1m \u001b[0m\u001b[1mValidation Loss\u001b[0m\u001b[1m \u001b[0m┃\n",
       "┡━━━━━━━━━━━╇━━━━━━━━━━━━╇━━━━━━━━━━━━━━━━━┩\n",
       "│\u001b[36m \u001b[0m\u001b[36mfetal_sat\u001b[0m\u001b[36m \u001b[0m│\u001b[35m \u001b[0m\u001b[35m  0.0496  \u001b[0m\u001b[35m \u001b[0m│\u001b[32m \u001b[0m\u001b[32m    2.5237     \u001b[0m\u001b[32m \u001b[0m│\n",
       "└───────────┴────────────┴─────────────────┘\n"
      ]
     },
     "metadata": {},
     "output_type": "display_data"
    }
   ],
   "source": [
    "mse_table = criterion.print_table()"
   ]
  },
  {
   "cell_type": "code",
   "execution_count": 14,
   "metadata": {},
   "outputs": [
    {
     "data": {
      "image/png": "[encoded data removed]",
      "text/plain": [
       "<Figure size 1200x600 with 3 Axes>"
      ]
     },
     "metadata": {},
     "output_type": "display_data"
    }
   ],
   "source": [
    "from inverse_modelling_tfo.visualization.visualize import plot_performance_distributions\n",
    "\n",
    "fig_dist = plot_performance_distributions(data, x_columns, y_columns, y_scaler, trainer.model, validation_method=validation_method)\n",
    "plt.show()"
   ]
  },
  {
   "cell_type": "code",
   "execution_count": 15,
   "metadata": {},
   "outputs": [
    {
     "name": "stdout",
     "output_type": "stream",
     "text": [
      "Printing Filtered MAE Errors...\n"
     ]
    },
    {
     "data": {
      "text/html": [
       "<pre style=\"white-space:pre;overflow-x:auto;line-height:normal;font-family:Menlo,'DejaVu Sans Mono',consolas,'Courier New',monospace\"><span style=\"font-style: italic\">                                Error Statistics                                </span>\n",
       "┏━━━━━━━━━━━━━━━━━━┳━━━━━━━━━━━━┳━━━━━━━━━━━┳━━━━━━━━━━━━━━━━━┳━━━━━━━━━━━━━━━━┓\n",
       "┃<span style=\"font-weight: bold\"> Label            </span>┃<span style=\"font-weight: bold\"> Train Mean </span>┃<span style=\"font-weight: bold\"> Train Std </span>┃<span style=\"font-weight: bold\"> Validation Mean </span>┃<span style=\"font-weight: bold\"> Validation Std </span>┃\n",
       "┡━━━━━━━━━━━━━━━━━━╇━━━━━━━━━━━━╇━━━━━━━━━━━╇━━━━━━━━━━━━━━━━━╇━━━━━━━━━━━━━━━━┩\n",
       "│<span style=\"color: #008000; text-decoration-color: #008000\"> Fetal Saturation </span>│<span style=\"color: #008080; text-decoration-color: #008080\">     0.0158 </span>│<span style=\"color: #008080; text-decoration-color: #008080\">    0.0149 </span>│<span style=\"color: #800080; text-decoration-color: #800080\">          0.1566 </span>│<span style=\"color: #800080; text-decoration-color: #800080\">         0.1118 </span>│\n",
       "└──────────────────┴────────────┴───────────┴─────────────────┴────────────────┘\n",
       "</pre>\n"
      ],
      "text/plain": [
       "\u001b[3m                                Error Statistics                                \u001b[0m\n",
       "┏━━━━━━━━━━━━━━━━━━┳━━━━━━━━━━━━┳━━━━━━━━━━━┳━━━━━━━━━━━━━━━━━┳━━━━━━━━━━━━━━━━┓\n",
       "┃\u001b[1m \u001b[0m\u001b[1mLabel           \u001b[0m\u001b[1m \u001b[0m┃\u001b[1m \u001b[0m\u001b[1mTrain Mean\u001b[0m\u001b[1m \u001b[0m┃\u001b[1m \u001b[0m\u001b[1mTrain Std\u001b[0m\u001b[1m \u001b[0m┃\u001b[1m \u001b[0m\u001b[1mValidation Mean\u001b[0m\u001b[1m \u001b[0m┃\u001b[1m \u001b[0m\u001b[1mValidation Std\u001b[0m\u001b[1m \u001b[0m┃\n",
       "┡━━━━━━━━━━━━━━━━━━╇━━━━━━━━━━━━╇━━━━━━━━━━━╇━━━━━━━━━━━━━━━━━╇━━━━━━━━━━━━━━━━┩\n",
       "│\u001b[32m \u001b[0m\u001b[32mFetal Saturation\u001b[0m\u001b[32m \u001b[0m│\u001b[36m \u001b[0m\u001b[36m    0.0158\u001b[0m\u001b[36m \u001b[0m│\u001b[36m \u001b[0m\u001b[36m   0.0149\u001b[0m\u001b[36m \u001b[0m│\u001b[35m \u001b[0m\u001b[35m         0.1566\u001b[0m\u001b[35m \u001b[0m│\u001b[35m \u001b[0m\u001b[35m        0.1118\u001b[0m\u001b[35m \u001b[0m│\n",
       "└──────────────────┴────────────┴───────────┴─────────────────┴────────────────┘\n"
      ]
     },
     "metadata": {},
     "output_type": "display_data"
    }
   ],
   "source": [
    "from inverse_modelling_tfo.visualization.tables import create_filtered_error_stats_table, create_per_column_error_stats_table\n",
    "print(\"Printing Filtered MAE Errors...\")\n",
    "# create_filtered_error_stats_table(data, x_columns, y_columns, y_scaler, trainer.model, 'Maternal Wall Thickness', 'mae', validation_method)\n",
    "mae_console = create_per_column_error_stats_table(data, x_columns, y_columns, y_scaler, trainer.model, \"mae\", validation_method)"
   ]
  },
  {
   "cell_type": "code",
   "execution_count": 16,
   "metadata": {},
   "outputs": [
    {
     "data": {
      "text/plain": [
       "=================================================================\n",
       "Layer (type:depth-idx)                   Param #\n",
       "=================================================================\n",
       "SkipConnect                              --\n",
       "├─Sequential: 1-1                        --\n",
       "│    └─Linear: 2-1                       1,640\n",
       "├─Sequential: 1-2                        --\n",
       "│    └─BatchNorm1d: 2-2                  82\n",
       "│    └─ReLU: 2-3                         --\n",
       "│    └─Linear: 2-4                       840\n",
       "│    └─BatchNorm1d: 2-5                  40\n",
       "│    └─ReLU: 2-6                         --\n",
       "│    └─Linear: 2-7                       21\n",
       "│    └─Flatten: 2-8                      --\n",
       "=================================================================\n",
       "Total params: 2,623\n",
       "Trainable params: 2,623\n",
       "Non-trainable params: 0\n",
       "================================================================="
      ]
     },
     "execution_count": 16,
     "metadata": {},
     "output_type": "execute_result"
    }
   ],
   "source": [
    "# Model Info\n",
    "torchinfo.summary(trainer.model)"
   ]
  },
  {
   "cell_type": "code",
   "execution_count": 17,
   "metadata": {},
   "outputs": [],
   "source": [
    "# ## Save Model Code\n",
    "# model_name = 'multi_output_holdoneout_split'\n",
    "# import joblib\n",
    "# # Save Model\n",
    "# torch.save(model.state_dict(), rf'../../models/{model_name}')\n",
    "# # Save the Scalers for Later Use\n",
    "# joblib.dump(x_scaler, rf'../../models/{model_name}_xscaler')\n",
    "# joblib.dump(y_scaler, rf'../../models/{model_name}_yscaler')"
   ]
  },
  {
   "cell_type": "code",
   "execution_count": 18,
   "metadata": {},
   "outputs": [],
   "source": [
    "# # Load Model Code\n",
    "# model = PerceptronReLU([20, 10, 4, 2, 1])\n",
    "# model.load_state_dict(torch.load(r'../models/fsat_delta_5det_v1'))\n",
    "# model = model.cuda()\n",
    "# x_scaler = joblib.load(rf'../models/{model_name}_xscaler')\n",
    "# y_scaler = joblib.load(rf'../models/{model_name}_yscaler')"
   ]
  },
  {
   "cell_type": "code",
   "execution_count": 19,
   "metadata": {},
   "outputs": [],
   "source": [
    "# from mdreport import MarkdownReport\n",
    "# # Generate report\n",
    "\n",
    "# report = MarkdownReport(Path('results'), 'skipconnect2', 'Inverse Modelling Using SkipConnect For Depth')\n",
    "# report.add_text_report(\"Objective\", \"Predicting only Fetal Saturation using SkipConnect to pass the Model Depth to the first hidden layer\")\n",
    "# report.add_text_report(\"Comments\", \"Works starts showing the same problems with held one out!\")\n",
    "# report.add_text_report(\"Data Length\", str(len(data)))\n",
    "# report.add_code_report(\"Model Used\", str(torchinfo.summary(trainer.model)))\n",
    "# report.add_code_report(\"Model Trainer Params\", str(trainer))\n",
    "# report.add_image_report(\"Loss Curves\", loss_curves)\n",
    "# report.add_image_report(\"Prediction & Error Distribution\", fig_dist)\n",
    "# report.add_rich_text_report(\"MAE Table\", mae_console)\n",
    "# report.add_rich_text_report(\"MSE Table\", mse_table)\n",
    "# report.save_report()"
   ]
  },
  {
   "cell_type": "code",
   "execution_count": null,
   "metadata": {},
   "outputs": [],
   "source": []
  }
 ],
 "metadata": {
  "kernelspec": {
   "display_name": "cybercat",
   "language": "python",
   "name": "python3"
  },
  "language_info": {
   "codemirror_mode": {
    "name": "ipython",
    "version": 3
   },
   "file_extension": ".py",
   "mimetype": "text/x-python",
   "name": "python",
   "nbconvert_exporter": "python",
   "pygments_lexer": "ipython3",
   "version": "3.8.10"
  },
  "orig_nbformat": 4
 },
 "nbformat": 4,
 "nbformat_minor": 2
}
