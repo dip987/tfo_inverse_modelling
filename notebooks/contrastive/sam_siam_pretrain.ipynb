{
 "cells": [
  {
   "cell_type": "markdown",
   "metadata": {},
   "source": [
    "# SamSiam Pre-Train\n",
    "Pre-training the frozen part of SamSiam. This part of the model is meant to pick up low level features related saturation estimation"
   ]
  },
  {
   "cell_type": "code",
   "execution_count": null,
   "metadata": {},
   "outputs": [],
   "source": []
  }
 ],
 "metadata": {
  "language_info": {
   "name": "python"
  }
 },
 "nbformat": 4,
 "nbformat_minor": 2
}
