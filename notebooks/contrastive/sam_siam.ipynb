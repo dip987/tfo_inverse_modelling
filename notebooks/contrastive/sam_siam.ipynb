{
 "cells": [
  {
   "cell_type": "markdown",
   "metadata": {},
   "source": [
    "## Defining The Model"
   ]
  },
  {
   "cell_type": "code",
   "execution_count": 1,
   "metadata": {},
   "outputs": [],
   "source": [
    "from typing import List\n",
    "from model_trainer.custom_models import PerceptronBD\n",
    "from torch import nn\n",
    "import torch\n",
    "\n",
    "class CustomSiam(nn.Module):\n",
    "    def __init__(self, encoder_nodes: List[int], projector_nodes: List[int]):\n",
    "        \"\"\"\n",
    "        Experimmental Implementation of SamSiam. Make sure the projector nodes has the same in/out nodes as \n",
    "        encoder_nodes[-1]. Otherwise the model will not work.\n",
    "        Example:\n",
    "        -------\n",
    "        model = CustomSiam([20, 10, 5], [5, 5])\n",
    "        \n",
    "        Args:\n",
    "            encoder_nodes (List[int]): List of nodes for the encoder. The last node should be the output dimension\n",
    "            projector_nodes (List[int]): List of nodes for the projector. The last node should be the output dimension\n",
    "            TODO: At some point, take out the customization for projector_nodes and just have layer count as the only\n",
    "            input param. for the projector.\n",
    "        \n",
    "        \n",
    "        \"\"\"\n",
    "        super(CustomSiam, self).__init__()\n",
    "        \n",
    "        self.input_dim = encoder_nodes[0]\n",
    "        \n",
    "        # We need to make an encoder that ends in BatchNorm and not a Linear layer\n",
    "        dummy_encoder_nodes = encoder_nodes + [1]       # Add a dummy Linear layer to the encoder - remove later\n",
    "        self.encoder = PerceptronBD(dummy_encoder_nodes)\n",
    "        self.encoder.layers = self.encoder.layers[:-2]  # Remove the last flatten and dummy Linear layer\n",
    "        self.encoder.layers.append(nn.BatchNorm1d(encoder_nodes[-1], affine=False))  # Add a BatchNorm layer\n",
    "        # self.encoder.layers[-1].bias.requires_grad = False  # Turn off the bias for the BatchNorm layer(SamSiam github)\n",
    "        self.encoder.model = nn.Sequential(*self.encoder.layers)    # Reassign the model to the new layers \n",
    "        \n",
    "        self.projector = PerceptronBD(projector_nodes)\n",
    "    \n",
    "    def forward(self, x):\n",
    "        # Split x into two parts\n",
    "        x1, x2 = x.chunk(2, dim=1)\n",
    "        z1 = self.encoder(x1)\n",
    "        z2 = self.encoder(x2)\n",
    "        p1 = self.projector(z1)\n",
    "        p2 = self.projector(z2)\n",
    "        \n",
    "        return torch.cat([p1, p2, z1.detach(), z2.detach()], dim=1)    "
   ]
  },
  {
   "cell_type": "markdown",
   "metadata": {},
   "source": [
    "## Defining The Custom Similarity Loss"
   ]
  },
  {
   "cell_type": "code",
   "execution_count": 2,
   "metadata": {},
   "outputs": [],
   "source": [
    "# Define a Custom Loss\n",
    "from model_trainer.core import LossFunction\n",
    "from model_trainer.loss_funcs import TorchLossWrapper\n",
    "from model_trainer.visualizations import LossVisualizerMixin\n",
    "\n",
    "\n",
    "class NegCosSimLoss(LossFunction, LossVisualizerMixin):\n",
    "    def __call__(self, model_output, dataloader_data, trainer_mode):\n",
    "        p1, p2, z1, z2 = model_output.chunk(4, dim=1)\n",
    "        z1 = z1.detach()  # Stop the gradient from flowing back to the encoder\n",
    "        z2 = z2.detach()  # Stop the gradient from flowing back to the encoder\n",
    "\n",
    "        # Normalize the projections and the encodings\n",
    "        p1 = self._l2_normalize(p1)\n",
    "        p2 = self._l2_normalize(p2)\n",
    "        z1 = self._l2_normalize(z1)\n",
    "        z2 = self._l2_normalize(z2)\n",
    "\n",
    "        # Calculate the negative cosine similarity loss\n",
    "        dot_product_p1_z1 = torch.sum(p1 * z1, dim=1)\n",
    "        dot_product_p2_z2 = torch.sum(p2 * z2, dim=1)\n",
    "        loss = (- dot_product_p1_z1.mean() / 2 - dot_product_p2_z2.mean() / 2)\n",
    "        \n",
    "        self.loss_tracker_step_update(loss.item(), trainer_mode)\n",
    "        return loss\n",
    "\n",
    "    def __str__(self):\n",
    "        return f\"Negative Cosine Similarity Loss\"\n",
    "\n",
    "    @staticmethod\n",
    "    def _l2_normalize(x: torch.Tensor) -> torch.Tensor:\n",
    "        return x / x.norm(p=2, dim=1, keepdim=True)"
   ]
  },
  {
   "cell_type": "markdown",
   "metadata": {},
   "source": [
    "## Testing/Debugging Model with Dummy Data (Comment Out)"
   ]
  },
  {
   "cell_type": "code",
   "execution_count": 3,
   "metadata": {},
   "outputs": [],
   "source": [
    "# import torch.optim as optim\n",
    "# from torch.utils.data import DataLoader, TensorDataset\n",
    "\n",
    "# model = CustomSiam([20, 10, 5], [5, 5])\n",
    "\n",
    "# # Write a training loop to minimize the negative cosine similarity loss\n",
    "# optimizer = optim.Adam(model.parameters(), lr=1e-2)\n",
    "# fake_data = torch.randn(100, 20)\n",
    "# dataset = TensorDataset(fake_data, fake_data + 0.1)\n",
    "# criteria = NegCosSimLoss()\n",
    "# dataloader = DataLoader(dataset, batch_size=16, shuffle=True)\n",
    "\n",
    "# for epcoh in range(200):\n",
    "#     epoch_loss = 0.\n",
    "#     for x1, x2 in dataloader:\n",
    "#         optimizer.zero_grad()\n",
    "#         x = torch.cat([x1, x2], dim=1)\n",
    "#         x = model(x)\n",
    "#         loss = criteria(x)\n",
    "#         loss.backward()\n",
    "#         # print(\"batch loss:\", loss.item())\n",
    "#         optimizer.step()\n",
    "#         epoch_loss += loss.item()\n",
    "#     print(\"epoch loss:\", epoch_loss)\n"
   ]
  },
  {
   "cell_type": "code",
   "execution_count": 4,
   "metadata": {},
   "outputs": [],
   "source": [
    "# import torch.nn.functional as F\n",
    "\n",
    "# test_input = torch.cat([fake_data[0, :].unsqueeze(0), fake_data[0, :].unsqueeze(0) + 0.1], dim=1)\n",
    "# model = model.eval()\n",
    "# p1, p2, z1, z2 = torch.chunk(model(test_input), 4, dim=1)\n",
    "\n",
    "# # Print the vectors\n",
    "# print(\"p1:\", p1)\n",
    "# print(\"p2:\", p2)\n",
    "# print(\"z1:\", z1)\n",
    "# print(\"z2:\", z2)\n",
    "\n",
    "# # Print the negative cosine similarity between the two projections\n",
    "# print(\"neg_cosine_similarity_loss(p1, z2):\", F.cosine_similarity(p1, z2))\n",
    "# print(\"neg_cosine_similarity_loss(p2, z1):\", F.cosine_similarity(p2, z1))"
   ]
  },
  {
   "cell_type": "markdown",
   "metadata": {},
   "source": [
    "## Test With TFO Simulation Data "
   ]
  },
  {
   "cell_type": "code",
   "execution_count": 5,
   "metadata": {},
   "outputs": [],
   "source": [
    "from pathlib import Path\n",
    "import json\n",
    "from torch.optim.adam import Adam\n",
    "from torch.optim.sgd import SGD\n",
    "import torch.nn as nn\n",
    "import torch\n",
    "import matplotlib.pyplot as plt\n",
    "import numpy as np\n",
    "import pandas as pd\n",
    "import os\n",
    "from sklearn import preprocessing\n",
    "from model_trainer import RandomSplit, ValidationMethod, HoldOneOut, CVSplit, CombineMethods\n",
    "from inverse_modelling_tfo.model_training.custom_models import (\n",
    "    PerceptronBD,\n",
    "    CNN2FC,\n",
    "    FeatureResidualNetwork,\n",
    "    CNN2FC2dInput,\n",
    "    SplitChannelCNN\n",
    ")\n",
    "\n",
    "from inverse_modelling_tfo.visualization import generate_model_error_and_prediction\n",
    "import torchinfo\n",
    "from inverse_modelling_tfo.misc.misc_training import set_seed\n",
    "\n",
    "# Set my GPU\n",
    "os.environ[\"CUDA_VISIBLE_DEVICES\"] = \"3\""
   ]
  },
  {
   "cell_type": "code",
   "execution_count": 6,
   "metadata": {},
   "outputs": [],
   "source": [
    "# file_name = 'logI2_by_I1'\n",
    "# file_name = 'I1_and_I2'\n",
    "# file_name = 'pulsation_ratio'\n",
    "# file_name = \"pulsation_ratio_interp_sd\"\n",
    "file_name = \"wide_intensity\"\n",
    "# Load data\n",
    "DATA_PATH = Path().resolve().parent.parent / \"data\" / \"processed_data\" / f\"{file_name}.pkl\"\n",
    "data = pd.read_pickle(DATA_PATH)\n",
    "\n",
    "# Load Configs\n",
    "CONFIG_PATH = DATA_PATH.with_suffix(\".json\")\n",
    "with open(CONFIG_PATH, \"r\") as f:\n",
    "    config = json.load(f)\n",
    "labels = config[\"labels\"]\n",
    "features = config[\"features\"]"
   ]
  },
  {
   "cell_type": "code",
   "execution_count": 7,
   "metadata": {},
   "outputs": [
    {
     "name": "stdout",
     "output_type": "stream",
     "text": [
      "X Columns ['10_2.0', '15_2.0', '19_2.0', '24_2.0', '28_2.0', '33_2.0', '37_2.0', '41_2.0', '46_2.0', '50_2.0', '55_2.0', '59_2.0', '64_2.0', '68_2.0', '72_2.0', '77_2.0', '81_2.0', '86_2.0', '90_2.0', '94_2.0', '10_1.0', '15_1.0', '19_1.0', '24_1.0', '28_1.0', '33_1.0', '37_1.0', '41_1.0', '46_1.0', '50_1.0', '55_1.0', '59_1.0', '64_1.0', '68_1.0', '72_1.0', '77_1.0', '81_1.0', '86_1.0', '90_1.0', '94_1.0']\n",
      "Y Columns ['Maternal Wall Thickness']\n"
     ]
    }
   ],
   "source": [
    "y_columns = [\"Maternal Wall Thickness\"]  # The column that changes between two augmentations\n",
    "\n",
    "x_columns = features  # What to use as input\n",
    "# x_columns = [features[i] for i in [3, 8, 12, 15, 19, 23, 28, 35, 39]] # Certain specific detectors\n",
    "\n",
    "print(\"X Columns\", x_columns)\n",
    "print(\"Y Columns\", y_columns)"
   ]
  },
  {
   "cell_type": "code",
   "execution_count": 8,
   "metadata": {},
   "outputs": [],
   "source": [
    "# Normalize\n",
    "y_scaler = preprocessing.StandardScaler()\n",
    "data[y_columns] = y_scaler.fit_transform(data[y_columns])\n",
    "\n",
    "x_scaler = preprocessing.StandardScaler()\n",
    "data[x_columns] = x_scaler.fit_transform(data[x_columns])"
   ]
  },
  {
   "cell_type": "code",
   "execution_count": 9,
   "metadata": {},
   "outputs": [
    {
     "name": "stdout",
     "output_type": "stream",
     "text": [
      "In Features : 40\n",
      "Out Features: 20\n"
     ]
    }
   ],
   "source": [
    "IN_FEATURES = len(x_columns)    # The model takes 2 inputs of this size\n",
    "OUT_FEATURES = 20                # Feature Vector size\n",
    "\n",
    "# These attributes stay constant between 2 points picked for change detection\n",
    "change_detection_fixed_columns = [\n",
    "    \"Maternal Hb Concentration\",\n",
    "    \"Maternal Saturation\",\n",
    "    # \"Fetal Hb Concentration 2\",\n",
    "    \"Fetal Hb Concentration\",\n",
    "    \"Fetal Saturation\",\n",
    "]\n",
    "print(\"In Features :\", len(x_columns))\n",
    "print(\"Out Features:\", OUT_FEATURES)"
   ]
  },
  {
   "cell_type": "code",
   "execution_count": 10,
   "metadata": {},
   "outputs": [],
   "source": [
    "from inverse_modelling_tfo.model_training.DataLoaderGenerators import ChangeDetectionDataLoaderGenerator, RowCombinationDataLoaderGenerator\n",
    "from model_trainer import ModelTrainer, TorchLossWrapper, DataLoaderGenerator, SumLoss, TorchLossWrapper\n",
    "from model_trainer.ModelTrainer import ModelTrainerNoisy\n",
    "\n",
    "\n",
    "set_seed(40)\n",
    "\n",
    "## Validation Methods\n",
    "validation_method = RandomSplit(0.8)\n",
    "\n",
    "## Define The DataLoader\n",
    "dataloader_gen = RowCombinationDataLoaderGenerator(data, x_columns, change_detection_fixed_columns, 128, {'shuffle': True})\n",
    "\n",
    "## Define The Loss Function\n",
    "criterion = NegCosSimLoss(name=\"NegCosSim\")\n",
    "\n",
    "## Defining The Model\n",
    "model = CustomSiam([IN_FEATURES, 30, 20, OUT_FEATURES], [OUT_FEATURES, OUT_FEATURES // 2, OUT_FEATURES])\n",
    "\n",
    "\n",
    "# Putting it all together\n",
    "trainer = ModelTrainer(model, dataloader_gen, validation_method, criterion)"
   ]
  },
  {
   "cell_type": "code",
   "execution_count": 11,
   "metadata": {},
   "outputs": [],
   "source": [
    "trainer.set_optimizer(Adam, {'lr': 1e-4, 'weight_decay': 1e-4})\n",
    "# trainer.set_batch_size(32)\n",
    "trainer.run(100)"
   ]
  },
  {
   "cell_type": "code",
   "execution_count": 12,
   "metadata": {},
   "outputs": [
    {
     "data": {
      "image/png": "[encoded data removed]",
      "text/plain": [
       "<Figure size 600x500 with 1 Axes>"
      ]
     },
     "metadata": {},
     "output_type": "display_data"
    }
   ],
   "source": [
    "loss_curves = criterion.plot_losses(pin_bottom_to_zero=False)\n",
    "plt.show()"
   ]
  },
  {
   "cell_type": "code",
   "execution_count": 13,
   "metadata": {},
   "outputs": [
    {
     "data": {
      "text/html": [
       "<pre style=\"white-space:pre;overflow-x:auto;line-height:normal;font-family:Menlo,'DejaVu Sans Mono',consolas,'Courier New',monospace\"><span style=\"font-style: italic\">                   Losses                   </span>\n",
       "┏━━━━━━━━━━━┳━━━━━━━━━━━━┳━━━━━━━━━━━━━━━━━┓\n",
       "┃<span style=\"font-weight: bold\">    👀     </span>┃<span style=\"font-weight: bold\"> Train Loss </span>┃<span style=\"font-weight: bold\"> Validation Loss </span>┃\n",
       "┡━━━━━━━━━━━╇━━━━━━━━━━━━╇━━━━━━━━━━━━━━━━━┩\n",
       "│<span style=\"color: #008080; text-decoration-color: #008080\"> NegCosSim </span>│<span style=\"color: #800080; text-decoration-color: #800080\">  -0.9868   </span>│<span style=\"color: #008000; text-decoration-color: #008000\">     -0.9916     </span>│\n",
       "└───────────┴────────────┴─────────────────┘\n",
       "</pre>\n"
      ],
      "text/plain": [
       "\u001b[3m                   Losses                   \u001b[0m\n",
       "┏━━━━━━━━━━━┳━━━━━━━━━━━━┳━━━━━━━━━━━━━━━━━┓\n",
       "┃\u001b[1m \u001b[0m\u001b[1m   👀    \u001b[0m\u001b[1m \u001b[0m┃\u001b[1m \u001b[0m\u001b[1mTrain Loss\u001b[0m\u001b[1m \u001b[0m┃\u001b[1m \u001b[0m\u001b[1mValidation Loss\u001b[0m\u001b[1m \u001b[0m┃\n",
       "┡━━━━━━━━━━━╇━━━━━━━━━━━━╇━━━━━━━━━━━━━━━━━┩\n",
       "│\u001b[36m \u001b[0m\u001b[36mNegCosSim\u001b[0m\u001b[36m \u001b[0m│\u001b[35m \u001b[0m\u001b[35m -0.9868  \u001b[0m\u001b[35m \u001b[0m│\u001b[32m \u001b[0m\u001b[32m    -0.9916    \u001b[0m\u001b[32m \u001b[0m│\n",
       "└───────────┴────────────┴─────────────────┘\n"
      ]
     },
     "metadata": {},
     "output_type": "display_data"
    },
    {
     "data": {
      "text/plain": [
       "<console width=115 ColorSystem.TRUECOLOR>"
      ]
     },
     "execution_count": 13,
     "metadata": {},
     "output_type": "execute_result"
    }
   ],
   "source": [
    "criterion.print_table()"
   ]
  }
 ],
 "metadata": {
  "kernelspec": {
   "display_name": "cybercat",
   "language": "python",
   "name": "python3"
  },
  "language_info": {
   "codemirror_mode": {
    "name": "ipython",
    "version": 3
   },
   "file_extension": ".py",
   "mimetype": "text/x-python",
   "name": "python",
   "nbconvert_exporter": "python",
   "pygments_lexer": "ipython3",
   "version": "3.8.10"
  }
 },
 "nbformat": 4,
 "nbformat_minor": 2
}
